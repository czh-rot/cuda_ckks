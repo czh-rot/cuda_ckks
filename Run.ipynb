{
 "cells": [
  {
   "cell_type": "markdown",
   "metadata": {},
   "source": [
    "## Build"
   ]
  },
  {
   "cell_type": "code",
   "execution_count": 1,
   "metadata": {},
   "outputs": [
    {
     "name": "stdout",
     "output_type": "stream",
     "text": [
      "Tue Jun 29 20:25:03 2021       \r\n",
      "+-----------------------------------------------------------------------------+\r\n",
      "| NVIDIA-SMI 460.27.04    Driver Version: 460.27.04    CUDA Version: 11.2     |\r\n",
      "|-------------------------------+----------------------+----------------------+\r\n",
      "| GPU  Name        Persistence-M| Bus-Id        Disp.A | Volatile Uncorr. ECC |\r\n",
      "| Fan  Temp  Perf  Pwr:Usage/Cap|         Memory-Usage | GPU-Util  Compute M. |\r\n",
      "|                               |                      |               MIG M. |\r\n",
      "|===============================+======================+======================|\r\n",
      "|   0  Tesla V100-PCIE...  On   | 00000000:5E:00.0 Off |                    0 |\r\n",
      "| N/A   52C    P0    30W / 250W |      0MiB / 16160MiB |      0%      Default |\r\n",
      "|                               |                      |                  N/A |\r\n",
      "+-------------------------------+----------------------+----------------------+\r\n",
      "                                                                               \r\n",
      "+-----------------------------------------------------------------------------+\r\n",
      "| Processes:                                                                  |\r\n",
      "|  GPU   GI   CI        PID   Type   Process name                  GPU Memory |\r\n",
      "|        ID   ID                                                   Usage      |\r\n",
      "|=============================================================================|\r\n",
      "|  No running processes found                                                 |\r\n",
      "+-----------------------------------------------------------------------------+\r\n"
     ]
    }
   ],
   "source": [
    "!nvidia-smi"
   ]
  },
  {
   "cell_type": "code",
   "execution_count": 2,
   "metadata": {},
   "outputs": [
    {
     "name": "stdout",
     "output_type": "stream",
     "text": [
      "-- The CUDA compiler identification is NVIDIA 11.1.105\n",
      "-- The CXX compiler identification is GNU 9.3.0\n",
      "-- Detecting CUDA compiler ABI info\n",
      "-- Detecting CUDA compiler ABI info - done\n",
      "-- Check for working CUDA compiler: /usr/local/cuda/bin/nvcc - skipped\n",
      "-- Detecting CUDA compile features\n",
      "-- Detecting CUDA compile features - done\n",
      "-- Detecting CXX compiler ABI info\n",
      "-- Detecting CXX compiler ABI info - done\n",
      "-- Check for working CXX compiler: /usr/bin/c++ - skipped\n",
      "-- Detecting CXX compile features\n",
      "-- Detecting CXX compile features - done\n",
      "-- Found CUDAToolkit: /usr/local/cuda/include (found version \"11.1.105\") \n",
      "-- Looking for C++ include pthread.h\n",
      "-- Looking for C++ include pthread.h - found\n",
      "-- Performing Test CMAKE_HAVE_LIBC_PTHREAD\n",
      "-- Performing Test CMAKE_HAVE_LIBC_PTHREAD - Failed\n",
      "-- Looking for pthread_create in pthreads\n",
      "-- Looking for pthread_create in pthreads - not found\n",
      "-- Looking for pthread_create in pthread\n",
      "-- Looking for pthread_create in pthread - found\n",
      "-- Found Threads: TRUE  \n",
      "-- Found Thrust: /usr/local/cuda/include  \n",
      "-- The C compiler identification is GNU 9.3.0\n",
      "-- Detecting C compiler ABI info\n",
      "-- Detecting C compiler ABI info - done\n",
      "-- Check for working C compiler: /usr/bin/cc - skipped\n",
      "-- Detecting C compile features\n",
      "-- Detecting C compile features - done\n",
      "-- Found Python: /usr/bin/python3.6 (found version \"3.6.9\") found components: Interpreter \n",
      "-- RMM: Enabling the GLIBCXX11 ABI\n",
      "-- Build spdlog: 1.6.0\n",
      "-- Build type: Release\n",
      "-- Using Nvidia Tools Extension\n",
      "-- Configuring done\n",
      "-- Generating done\n",
      "-- Build files have been written to: /tmp/frns-heaan/build\n"
     ]
    }
   ],
   "source": [
    "!cmake -S . -B build -DCMAKE_BUILD_TYPE=Release"
   ]
  },
  {
   "cell_type": "code",
   "execution_count": 3,
   "metadata": {},
   "outputs": [
    {
     "name": "stdout",
     "output_type": "stream",
     "text": [
      "\u001b[35m\u001b[1mScanning dependencies of target rmm\u001b[0m\n",
      "\u001b[35m\u001b[1mScanning dependencies of target gtest\u001b[0m\n",
      "[  5%] \u001b[32mBuilding CXX object _deps/rmm-build/CMakeFiles/rmm.dir/__/cnmem-src/src/cnmem.cpp.o\u001b[0m\n",
      "[ 10%] \u001b[32mBuilding CXX object _deps/googletest-build/googletest/CMakeFiles/gtest.dir/src/gtest-all.cc.o\u001b[0m\n",
      "[ 15%] \u001b[32m\u001b[1mLinking CXX shared library librmm.so\u001b[0m\n",
      "[ 15%] Built target rmm\n",
      "\u001b[35m\u001b[1mScanning dependencies of target DeviceFunctions\u001b[0m\n",
      "[ 20%] \u001b[32mBuilding CUDA object CMakeFiles/DeviceFunctions.dir/src/public/Context.cu.o\u001b[0m\n",
      "[ 25%] \u001b[32mBuilding CUDA object CMakeFiles/DeviceFunctions.dir/src/public/DeviceVector.cu.o\u001b[0m\n",
      "[ 30%] \u001b[32mBuilding CUDA object CMakeFiles/DeviceFunctions.dir/src/public/CudaHelper.cu.o\u001b[0m\n",
      "[ 35%] \u001b[32mBuilding CUDA object CMakeFiles/DeviceFunctions.dir/src/public/MultPtxtBatch.cu.o\u001b[0m\n",
      "[ 40%] \u001b[32mBuilding CUDA object CMakeFiles/DeviceFunctions.dir/src/public/NttImple.cu.o\u001b[0m\n",
      "[ 45%] \u001b[32m\u001b[1mLinking CXX static library ../../../lib/libgtest.a\u001b[0m\n",
      "[ 45%] Built target gtest\n",
      "\u001b[35m\u001b[1mScanning dependencies of target gtest_main\u001b[0m\n",
      "\u001b[35m\u001b[1mScanning dependencies of target gmock\u001b[0m\n",
      "[ 50%] \u001b[32mBuilding CXX object _deps/googletest-build/googletest/CMakeFiles/gtest_main.dir/src/gtest_main.cc.o\u001b[0m\n",
      "[ 55%] \u001b[32mBuilding CXX object _deps/googletest-build/googlemock/CMakeFiles/gmock.dir/src/gmock-all.cc.o\u001b[0m\n",
      "[ 60%] \u001b[32m\u001b[1mLinking CXX static library ../../../lib/libgtest_main.a\u001b[0m\n",
      "[ 60%] Built target gtest_main\n",
      "[ 65%] \u001b[32m\u001b[1mLinking CXX static library ../../../lib/libgmock.a\u001b[0m\n",
      "[ 65%] Built target gmock\n",
      "\u001b[35m\u001b[1mScanning dependencies of target gmock_main\u001b[0m\n",
      "[ 70%] \u001b[32mBuilding CXX object _deps/googletest-build/googlemock/CMakeFiles/gmock_main.dir/src/gmock_main.cc.o\u001b[0m\n",
      "[ 75%] \u001b[32m\u001b[1mLinking CXX static library ../../../lib/libgmock_main.a\u001b[0m\n",
      "[ 75%] Built target gmock_main\n",
      "[ 80%] \u001b[32m\u001b[1mLinking CUDA shared library libDeviceFunctions.so\u001b[0m\n",
      "[ 80%] Built target DeviceFunctions\n",
      "\u001b[35m\u001b[1mScanning dependencies of target FusionTest\u001b[0m\n",
      "\u001b[35m\u001b[1mScanning dependencies of target Benchmark\u001b[0m\n",
      "[ 85%] \u001b[32mBuilding CXX object unittest/CMakeFiles/FusionTest.dir/public/FusionTest.cpp.o\u001b[0m\n",
      "[ 90%] \u001b[32mBuilding CXX object benchmark/CMakeFiles/Benchmark.dir/Benchmark.cpp.o\u001b[0m\n",
      "[ 95%] \u001b[32m\u001b[1mLinking CXX executable Benchmark\u001b[0m\n",
      "[ 95%] Built target Benchmark\n",
      "[100%] \u001b[32m\u001b[1mLinking CXX executable FusionTest\u001b[0m\n",
      "[100%] Built target FusionTest\n"
     ]
    }
   ],
   "source": [
    "!cmake --build build -j"
   ]
  },
  {
   "cell_type": "markdown",
   "metadata": {},
   "source": [
    "## Test"
   ]
  },
  {
   "cell_type": "markdown",
   "metadata": {},
   "source": [
    "See if the functions output the same as the ones without kenel fusion."
   ]
  },
  {
   "cell_type": "code",
   "execution_count": 4,
   "metadata": {},
   "outputs": [
    {
     "name": "stdout",
     "output_type": "stream",
     "text": [
      "Running main() from /tmp/frns-heaan/build/_deps/googletest-src/googletest/src/gtest_main.cc\n",
      "\u001b[0;32m[==========] \u001b[mRunning 8 tests from 1 test suite.\n",
      "\u001b[0;32m[----------] \u001b[mGlobal test environment set-up.\n",
      "\u001b[0;32m[----------] \u001b[m8 tests from Params/FusionTest\n",
      "\u001b[0;32m[ RUN      ] \u001b[mParams/FusionTest.ModUp/0\n",
      "\u001b[0;32m[       OK ] \u001b[mParams/FusionTest.ModUp/0 (824 ms)\n",
      "\u001b[0;32m[ RUN      ] \u001b[mParams/FusionTest.ModUp/1\n",
      "\u001b[0;32m[       OK ] \u001b[mParams/FusionTest.ModUp/1 (957 ms)\n",
      "\u001b[0;32m[ RUN      ] \u001b[mParams/FusionTest.ModDown/0\n",
      "\u001b[0;32m[       OK ] \u001b[mParams/FusionTest.ModDown/0 (647 ms)\n",
      "\u001b[0;32m[ RUN      ] \u001b[mParams/FusionTest.ModDown/1\n",
      "\u001b[0;32m[       OK ] \u001b[mParams/FusionTest.ModDown/1 (872 ms)\n",
      "\u001b[0;32m[ RUN      ] \u001b[mParams/FusionTest.KeySwitch/0\n",
      "\u001b[0;32m[       OK ] \u001b[mParams/FusionTest.KeySwitch/0 (6988 ms)\n",
      "\u001b[0;32m[ RUN      ] \u001b[mParams/FusionTest.KeySwitch/1\n",
      "\u001b[0;32m[       OK ] \u001b[mParams/FusionTest.KeySwitch/1 (1642 ms)\n",
      "\u001b[0;32m[ RUN      ] \u001b[mParams/FusionTest.PtxtCtxtBatching/0\n",
      "\u001b[0;32m[       OK ] \u001b[mParams/FusionTest.PtxtCtxtBatching/0 (1206 ms)\n",
      "\u001b[0;32m[ RUN      ] \u001b[mParams/FusionTest.PtxtCtxtBatching/1\n",
      "\u001b[0;32m[       OK ] \u001b[mParams/FusionTest.PtxtCtxtBatching/1 (1384 ms)\n",
      "\u001b[0;32m[----------] \u001b[m8 tests from Params/FusionTest (14524 ms total)\n",
      "\n",
      "\u001b[0;32m[----------] \u001b[mGlobal test environment tear-down\n",
      "\u001b[0;32m[==========] \u001b[m8 tests from 1 test suite ran. (14524 ms total)\n",
      "\u001b[0;32m[  PASSED  ] \u001b[m8 tests.\n"
     ]
    }
   ],
   "source": [
    "!./build/unittest/FusionTest"
   ]
  },
  {
   "cell_type": "markdown",
   "metadata": {},
   "source": [
    "Outputs the latency of each function on (N, dnum, level) = (2^16, 3, 44), with 10 repetitions."
   ]
  },
  {
   "cell_type": "code",
   "execution_count": 5,
   "metadata": {},
   "outputs": [
    {
     "name": "stdout",
     "output_type": "stream",
     "text": [
      "ModUp, 1.738 ms\n",
      "ModUp, 1.685 ms\n",
      "ModUp, 1.679 ms\n",
      "ModUp, 1.680 ms\n",
      "ModUp, 1.683 ms\n",
      "ModUp, 1.683 ms\n",
      "ModUp, 1.682 ms\n",
      "ModUp, 1.681 ms\n",
      "ModUp, 1.682 ms\n",
      "ModUp, 1.677 ms\n",
      "FusedModUp, 1.675 ms\n",
      "FusedModUp, 1.493 ms\n",
      "FusedModUp, 1.502 ms\n",
      "FusedModUp, 1.488 ms\n",
      "FusedModUp, 1.489 ms\n",
      "FusedModUp, 1.493 ms\n",
      "FusedModUp, 1.485 ms\n",
      "FusedModUp, 1.492 ms\n",
      "FusedModUp, 1.490 ms\n",
      "FusedModUp, 1.488 ms\n",
      "ModDown, 0.794 ms\n",
      "ModDown, 0.755 ms\n",
      "ModDown, 0.756 ms\n",
      "ModDown, 0.756 ms\n",
      "ModDown, 0.757 ms\n",
      "ModDown, 0.752 ms\n",
      "ModDown, 0.755 ms\n",
      "ModDown, 0.753 ms\n",
      "ModDown, 0.754 ms\n",
      "ModDown, 0.757 ms\n",
      "FusedModDown, 0.594 ms\n",
      "FusedModDown, 0.589 ms\n",
      "FusedModDown, 0.595 ms\n",
      "FusedModDown, 0.590 ms\n",
      "FusedModDown, 0.593 ms\n",
      "FusedModDown, 0.592 ms\n",
      "FusedModDown, 0.594 ms\n",
      "FusedModDown, 0.592 ms\n",
      "FusedModDown, 0.592 ms\n",
      "FusedModDown, 0.590 ms\n",
      "KeySwitch, 1.894 ms\n",
      "KeySwitch, 1.677 ms\n",
      "KeySwitch, 1.696 ms\n",
      "KeySwitch, 1.697 ms\n",
      "KeySwitch, 1.685 ms\n",
      "KeySwitch, 1.664 ms\n",
      "KeySwitch, 1.676 ms\n",
      "KeySwitch, 1.685 ms\n",
      "KeySwitch, 1.671 ms\n",
      "KeySwitch, 1.684 ms\n",
      "FusedKeySwitch, 0.464 ms\n",
      "FusedKeySwitch, 0.463 ms\n",
      "FusedKeySwitch, 0.455 ms\n",
      "FusedKeySwitch, 0.458 ms\n",
      "FusedKeySwitch, 0.458 ms\n",
      "FusedKeySwitch, 0.457 ms\n",
      "FusedKeySwitch, 0.462 ms\n",
      "FusedKeySwitch, 0.459 ms\n",
      "FusedKeySwitch, 0.462 ms\n",
      "FusedKeySwitch, 0.458 ms\n",
      "PtxtCtxtMAD, 3.335 ms\n",
      "PtxtCtxtMAD, 3.032 ms\n",
      "PtxtCtxtMAD, 3.032 ms\n",
      "PtxtCtxtMAD, 3.031 ms\n",
      "PtxtCtxtMAD, 3.030 ms\n",
      "PtxtCtxtMAD, 3.029 ms\n",
      "PtxtCtxtMAD, 3.031 ms\n",
      "PtxtCtxtMAD, 3.030 ms\n",
      "PtxtCtxtMAD, 3.033 ms\n",
      "PtxtCtxtMAD, 3.028 ms\n",
      "BatchedPtxtCtxtMAD, 0.973 ms\n",
      "BatchedPtxtCtxtMAD, 0.926 ms\n",
      "BatchedPtxtCtxtMAD, 0.930 ms\n",
      "BatchedPtxtCtxtMAD, 0.924 ms\n",
      "BatchedPtxtCtxtMAD, 0.930 ms\n",
      "BatchedPtxtCtxtMAD, 0.923 ms\n",
      "BatchedPtxtCtxtMAD, 0.929 ms\n",
      "BatchedPtxtCtxtMAD, 0.924 ms\n",
      "BatchedPtxtCtxtMAD, 0.929 ms\n",
      "BatchedPtxtCtxtMAD, 0.924 ms\n"
     ]
    }
   ],
   "source": [
    "!./build/benchmark/Benchmark"
   ]
  }
 ],
 "metadata": {
  "kernelspec": {
   "display_name": "Python 3",
   "language": "python",
   "name": "python3"
  },
  "language_info": {
   "codemirror_mode": {
    "name": "ipython",
    "version": 3
   },
   "file_extension": ".py",
   "mimetype": "text/x-python",
   "name": "python",
   "nbconvert_exporter": "python",
   "pygments_lexer": "ipython3",
   "version": "3.6.9"
  }
 },
 "nbformat": 4,
 "nbformat_minor": 4
}
